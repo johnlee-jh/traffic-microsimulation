{
 "cells": [
  {
   "cell_type": "markdown",
   "id": "76a868b5",
   "metadata": {},
   "source": [
    "# OD Demand Calibration\n",
    "\n",
    "### Goal\n",
    "<font color=red>OD Demand Calibration.</font>\n",
    "\n",
    "This notebook aims to calibrate OD demand without simulation."
   ]
  },
  {
   "cell_type": "markdown",
   "id": "b251560e",
   "metadata": {},
   "source": [
    "<a id='initialization'></a>\n",
    "\n",
    "# 0. Initialization\n",
    "\n",
    "Initialize module imports and set afternoon study intervals."
   ]
  },
  {
   "cell_type": "code",
   "execution_count": 44,
   "id": "1e0a3b67",
   "metadata": {},
   "outputs": [],
   "source": [
    "# Import modules\n",
    "import datetime\n",
    "import os\n",
    "import sys\n",
    "import numpy as np\n",
    "import pandas as pd\n",
    "import geopandas as gpd\n",
    "from scipy.optimize import minimize\n",
    "import matplotlib.pyplot as plt\n",
    "\n",
    "#####\n",
    "import calibration_util\n",
    "\n",
    "# Initialize imports for files in ../utils/*\n",
    "util_module_path = os.path.abspath(os.path.join('..', 'utils'))\n",
    "if util_module_path not in sys.path:\n",
    "    sys.path.append(util_module_path)\n",
    "import premodeling_folder_utils\n",
    "import aimsun_folder_utils\n",
    "import aimsun_input_utils"
   ]
  },
  {
   "cell_type": "code",
   "execution_count": 45,
   "id": "26383eb6",
   "metadata": {},
   "outputs": [],
   "source": [
    "# Set time intervals of study.\n",
    "_START_HOUR = 14\n",
    "_END_HOUR = 20\n",
    "_TIME_STEP_MINUTES = 15\n",
    "\n",
    "afternoon_times = []\n",
    "for hour in range(_START_HOUR, _END_HOUR):\n",
    "        for minute in range(0, 60, _TIME_STEP_MINUTES):\n",
    "            afternoon_times.append(datetime.time(hour, minute))\n",
    "\n",
    "afternoon_times_string = [str(time)[:-3] for time in afternoon_times]"
   ]
  },
  {
   "cell_type": "markdown",
   "id": "c396100c",
   "metadata": {},
   "source": [
    "<a id='import_data'></a>\n",
    "\n",
    "# 1. Import Data\n",
    "\n",
    "**External Centroids Data ($C_{ext}$)**: GeoDataFrame of external centroids, which contains their external ID, to-detector ID, from-detector ID, and their location.\n",
    "\n",
    "**Induced External Demand Data ($f_{t, map}$)**: Demand data between external centroids that was induced from raw data sources.\n",
    "\n",
    "**Merged OD Demand Data ($d(o, d, t)$)**: Afternoon demand data that includes induced demand per timestep according to StreetLight data, then scaled accordingly to maintain traveler/resident ratio. Exported from the `Premodeling/Demand/OD Demand Modeling` notebook as an aimsun_input_utils.OriginDestinationMatrices object. Imported as `d_merged`."
   ]
  },
  {
   "cell_type": "code",
   "execution_count": 115,
   "id": "332ada65",
   "metadata": {},
   "outputs": [
    {
     "data": {
      "text/html": [
       "<div>\n",
       "<style scoped>\n",
       "    .dataframe tbody tr th:only-of-type {\n",
       "        vertical-align: middle;\n",
       "    }\n",
       "\n",
       "    .dataframe tbody tr th {\n",
       "        vertical-align: top;\n",
       "    }\n",
       "\n",
       "    .dataframe thead th {\n",
       "        text-align: right;\n",
       "    }\n",
       "</style>\n",
       "<table border=\"1\" class=\"dataframe\">\n",
       "  <thead>\n",
       "    <tr style=\"text-align: right;\">\n",
       "      <th></th>\n",
       "      <th>ID</th>\n",
       "      <th>Name</th>\n",
       "      <th>FromDet</th>\n",
       "      <th>ToDet</th>\n",
       "      <th>DetCal</th>\n",
       "      <th>geometry</th>\n",
       "    </tr>\n",
       "  </thead>\n",
       "  <tbody>\n",
       "    <tr>\n",
       "      <th>0</th>\n",
       "      <td>ext_1</td>\n",
       "      <td>SR 262</td>\n",
       "      <td>201917</td>\n",
       "      <td>201918</td>\n",
       "      <td>No</td>\n",
       "      <td>POINT (-121.93154 37.48815)</td>\n",
       "    </tr>\n",
       "    <tr>\n",
       "      <th>1</th>\n",
       "      <td>ext_2</td>\n",
       "      <td>Warren</td>\n",
       "      <td>201950</td>\n",
       "      <td>201949</td>\n",
       "      <td>No</td>\n",
       "      <td>POINT (-121.92872 37.48682)</td>\n",
       "    </tr>\n",
       "    <tr>\n",
       "      <th>2</th>\n",
       "      <td>ext_3</td>\n",
       "      <td>Warm Spring</td>\n",
       "      <td>201943</td>\n",
       "      <td>201944</td>\n",
       "      <td>No</td>\n",
       "      <td>POINT (-121.92730 37.48604)</td>\n",
       "    </tr>\n",
       "    <tr>\n",
       "      <th>3</th>\n",
       "      <td>ext_4</td>\n",
       "      <td>I-680 South</td>\n",
       "      <td>403250</td>\n",
       "      <td>403251</td>\n",
       "      <td>Yes</td>\n",
       "      <td>POINT (-121.91765 37.48955)</td>\n",
       "    </tr>\n",
       "    <tr>\n",
       "      <th>4</th>\n",
       "      <td>ext_5</td>\n",
       "      <td>S Grimmer</td>\n",
       "      <td>201939</td>\n",
       "      <td>201940</td>\n",
       "      <td>Yes</td>\n",
       "      <td>POINT (-121.94370 37.50394)</td>\n",
       "    </tr>\n",
       "  </tbody>\n",
       "</table>\n",
       "</div>"
      ],
      "text/plain": [
       "      ID         Name FromDet   ToDet DetCal                     geometry\n",
       "0  ext_1       SR 262  201917  201918     No  POINT (-121.93154 37.48815)\n",
       "1  ext_2       Warren  201950  201949     No  POINT (-121.92872 37.48682)\n",
       "2  ext_3  Warm Spring  201943  201944     No  POINT (-121.92730 37.48604)\n",
       "3  ext_4  I-680 South  403250  403251    Yes  POINT (-121.91765 37.48955)\n",
       "4  ext_5    S Grimmer  201939  201940    Yes  POINT (-121.94370 37.50394)"
      ]
     },
     "execution_count": 115,
     "metadata": {},
     "output_type": "execute_result"
    }
   ],
   "source": [
    "# Import External Centroid Shapefile as ext_centroids\n",
    "external_centroids_path = premodeling_folder_utils.external_centroids_file()\n",
    "external_centroids_gdf = gpd.read_file(external_centroids_path)\n",
    "\n",
    "external_centroids_gdf.head(5)"
   ]
  },
  {
   "cell_type": "code",
   "execution_count": 116,
   "id": "916dad43",
   "metadata": {},
   "outputs": [],
   "source": [
    "# Import Induced StreetLight data as d_SL_time\n",
    "d_SL_time_path = premodeling_folder_utils.external_demand_file()\n",
    "d_SL_time = calibration_util.ExternalDemandProfile(d_SL_time_path)"
   ]
  },
  {
   "cell_type": "code",
   "execution_count": 117,
   "id": "4d78fda6",
   "metadata": {},
   "outputs": [],
   "source": [
    "# Import Merged OD Demand data\n",
    "d_merged_path = premodeling_folder_utils.od_demand_raw_file()\n",
    "d_merged = aimsun_input_utils.OriginDestinationMatrices(d_merged_path)\n",
    "\n",
    "d_merged_data = []\n",
    "for od_matrix in d_merged.od_matrices:\n",
    "    for od_trip in od_matrix.od_trips_count:\n",
    "        d_merged_data.append((od_trip.origin_centroid_external_id, od_trip.destination_centroid_external_id,\n",
    "                              od_matrix.begin_time_interval, od_trip.num_trips))"
   ]
  },
  {
   "cell_type": "markdown",
   "id": "02405445",
   "metadata": {},
   "source": [
    "<a id='calibration-without-simulation'></a>\n",
    "\n",
    "# 2. OD demand calibration without simulation\n",
    "\n",
    "This step corresponds to OD demand calibration without simulation in the paper.\n",
    "\n",
    "This step utilizes the least-squares minimization equation below to retrieve $\\alpha$, the scaling factor for demand according to ground flow data at every external entry or exit point.\n",
    "\n",
    "<span style=\"font-size: 14pt; font-family: times, serif;\"> Objective: \\\\[ \\min_{\\alpha \\in \\mathbb{R}} \\sum_{t \\in T} \\sum_{d \\in C_{ext}} {\\left( f_{t, mapd(d)} - \\alpha \\sum_{o \\in C} \\textbf{d}(o, d, t) \\right)}^2 + \\sum_{t \\in T} \\sum_{o \\in C_{ext}} {\\left( f_{t, mapo(o)} - \\alpha \\sum_{d \\in C} \\textbf{d}_{(o, d, t)} \\right)}^2 \\\\] </span>\n",
    "\n",
    "\n",
    "\n",
    "For the area of Fremont, centroids 'ext_4', 'ext_5', and 'ext_6' were used as $C_{ext}$.\n",
    "\n",
    "To solve for $\\alpha$, we take the following steps:\n",
    "1. Generate constants used in minimization\n",
    "2. Model Objective and Constraint functions for minimization\n",
    "3. Compute minimization"
   ]
  },
  {
   "cell_type": "markdown",
   "id": "715c1670",
   "metadata": {},
   "source": [
    "### 2.1 Generate constants used in minimization"
   ]
  },
  {
   "cell_type": "code",
   "execution_count": 133,
   "id": "66bf617f",
   "metadata": {},
   "outputs": [],
   "source": [
    "calibration_centroids_gdf = external_centroids_gdf#[external_centroids_gdf['DetCal'] == 'Yes']\n",
    "calibration_centroids_data = calibration_centroids_gdf[['ID', 'FromDet', 'ToDet']].to_numpy()"
   ]
  },
  {
   "cell_type": "code",
   "execution_count": 134,
   "id": "37e0f2eb",
   "metadata": {},
   "outputs": [],
   "source": [
    "d_cal_data_list = calibration_centroids_data"
   ]
  },
  {
   "cell_type": "markdown",
   "id": "09787c42",
   "metadata": {},
   "source": [
    "#### 2.2.1 Generate constants used in beta minimization"
   ]
  },
  {
   "cell_type": "code",
   "execution_count": 135,
   "id": "5fca0609",
   "metadata": {},
   "outputs": [],
   "source": [
    "beta_origin_constants = []\n",
    "beta_destination_constants = []\n",
    "\n",
    "for d_cal in d_cal_data_list:\n",
    "    for time in afternoon_times:\n",
    "\n",
    "        # For origin centroids in d_Cal\n",
    "        d_merged_o_time_sum = 0\n",
    "        F_val_t_o = 0\n",
    "        for od_trip in d_merged_data:\n",
    "            if od_trip[0] == d_cal[0] and od_trip[2] == time:\n",
    "                d_merged_o_time_sum += od_trip[3]\n",
    "        for od_matrix in d_SL_time.ext_demand_matrix:\n",
    "            if od_matrix.origin_centroid_id == d_cal[0]:\n",
    "                assert d_cal[1] in od_matrix.origin_detector_id\n",
    "                F_val_t_o = od_matrix.from_demand_per_timestep[time]\n",
    "        beta_origin_constant = (d_cal[0], time, d_merged_o_time_sum, F_val_t_o, 'O')\n",
    "        beta_origin_constants.append(beta_origin_constant)\n",
    "\n",
    "        # For destination centroids in d_Cal\n",
    "        d_merged_d_time_sum = 0\n",
    "        F_val_t_d = 0\n",
    "        for od_trip in d_merged_data:\n",
    "            if od_trip[1] == d_cal[0] and od_trip[2] == time:\n",
    "                d_merged_d_time_sum += od_trip[3]\n",
    "        for od_matrix in d_SL_time.ext_demand_matrix:\n",
    "            if od_matrix.destination_centroid_id == d_cal[0]:\n",
    "                assert d_cal[2] in od_matrix.destination_detector_id\n",
    "                F_val_t_d = od_matrix.to_demand_per_timestep[time]\n",
    "        beta_destination_constant = (d_cal[0], time, d_merged_d_time_sum, F_val_t_d, 'D')\n",
    "        beta_destination_constants.append(beta_destination_constant)"
   ]
  },
  {
   "cell_type": "markdown",
   "id": "586fe4d7",
   "metadata": {},
   "source": [
    "#### 2.2.2 Model Objective and Constraint functions for minimization"
   ]
  },
  {
   "cell_type": "code",
   "execution_count": 136,
   "id": "30073bb1",
   "metadata": {},
   "outputs": [],
   "source": [
    "def beta_objective(beta, beta_origin_constants, beta_destination_constants):\n",
    "    least_squares_sum = 0\n",
    "    for beta_origin_constant in beta_origin_constants:\n",
    "        assert beta_origin_constant[4] == 'O'\n",
    "        square_val = ((beta * beta_origin_constant[2]) - beta_origin_constant[3]) ** 2\n",
    "        least_squares_sum += square_val\n",
    "    for beta_destination_constant in beta_destination_constants:\n",
    "        assert beta_destination_constant[4] == 'D'\n",
    "        square_val = ((beta * beta_destination_constant[2]) - beta_destination_constant[3]) ** 2\n",
    "        least_squares_sum += square_val\n",
    "    return least_squares_sum\n",
    "\n",
    "beta_guess = 3"
   ]
  },
  {
   "cell_type": "markdown",
   "id": "ee1f2e5b",
   "metadata": {},
   "source": [
    "#### 2.2.3 Run minimization function"
   ]
  },
  {
   "cell_type": "code",
   "execution_count": 137,
   "id": "c2a0650b",
   "metadata": {},
   "outputs": [
    {
     "name": "stdout",
     "output_type": "stream",
     "text": [
      "Beta = 1.3515060424804648\n"
     ]
    }
   ],
   "source": [
    "beta_minimization_results = minimize(\n",
    "    beta_objective, beta_guess, method='Nelder-Mead',\n",
    "    args=(beta_origin_constants, beta_destination_constants))\n",
    "\n",
    "# Test to check successful run of minimization\n",
    "assert beta_minimization_results.success == True\n",
    "\n",
    "beta = float(beta_minimization_results.x)\n",
    "\n",
    "# Test to double check for correctness of minimization\n",
    "for error in range(10):\n",
    "    assert beta_objective(int(beta) - error, beta_origin_constants, beta_destination_constants) \\\n",
    "           > beta_objective(beta, beta_origin_constants, beta_destination_constants)\n",
    "    assert beta_objective(int(beta) + error, beta_origin_constants, beta_destination_constants) \\\n",
    "           > beta_objective(beta, beta_origin_constants, beta_destination_constants)\n",
    "assert beta_objective(0, beta_origin_constants, beta_destination_constants) \\\n",
    "       > beta_objective(beta, beta_origin_constants, beta_destination_constants)\n",
    "\n",
    "print(f'Beta = {beta}')"
   ]
  },
  {
   "cell_type": "code",
   "execution_count": 138,
   "id": "cd8737de",
   "metadata": {},
   "outputs": [
    {
     "data": {
      "image/png": "[encoded data removed]",
      "text/plain": [
       "<Figure size 432x288 with 1 Axes>"
      ]
     },
     "metadata": {
      "needs_background": "light"
     },
     "output_type": "display_data"
    }
   ],
   "source": [
    "# Visualize Beta minimization\n",
    "nearby_betas = []\n",
    "nearby_beta_results = []\n",
    "\n",
    "nearby_beta_limit = 10\n",
    "for nearby_beta in range(int(beta) - nearby_beta_limit, int(beta) + nearby_beta_limit):\n",
    "    # Check if local minimum equals global minimum\n",
    "    nearby_betas.append(nearby_beta)\n",
    "    nearby_beta_results.append(beta_objective(nearby_beta, beta_origin_constants, beta_destination_constants))\n",
    "\n",
    "fig = plt.figure()\n",
    "\n",
    "plt.plot(nearby_betas, nearby_beta_results, label=\"\")\n",
    "plt.plot(beta, beta_objective(beta, beta_origin_constants, beta_destination_constants),\n",
    "         label=\"Found Beta\", color='red', marker='x', markersize=\"10\", linewidth=0)\n",
    "\n",
    "plt.title(f\"Beta Minimization Plot\")\n",
    "plt.xlabel(\"beta\")\n",
    "plt.ylabel(\"beta_objective()\")\n",
    "plt.legend(loc=\"upper right\")\n",
    "\n",
    "plt.show()"
   ]
  },
  {
   "cell_type": "markdown",
   "id": "d01802d8",
   "metadata": {},
   "source": [
    "### 2.3 Create d_flow"
   ]
  },
  {
   "cell_type": "code",
   "execution_count": 139,
   "id": "dd4b9c0f",
   "metadata": {},
   "outputs": [],
   "source": [
    "d_flow = []\n",
    "\n",
    "for od_data in d_merged_data:\n",
    "    beta_scaled_flow = od_data[3] * beta\n",
    "    new_od_data = (od_data[0], od_data[1], str(od_data[2])[:-3], beta_scaled_flow)\n",
    "    d_flow.append(new_od_data)\n",
    "\n",
    "assert len(d_flow) == len(d_merged_data)"
   ]
  },
  {
   "cell_type": "code",
   "execution_count": 140,
   "id": "d8054d4e",
   "metadata": {},
   "outputs": [
    {
     "data": {
      "text/html": [
       "<div>\n",
       "<style scoped>\n",
       "    .dataframe tbody tr th:only-of-type {\n",
       "        vertical-align: middle;\n",
       "    }\n",
       "\n",
       "    .dataframe tbody tr th {\n",
       "        vertical-align: top;\n",
       "    }\n",
       "\n",
       "    .dataframe thead th {\n",
       "        text-align: right;\n",
       "    }\n",
       "</style>\n",
       "<table border=\"1\" class=\"dataframe\">\n",
       "  <thead>\n",
       "    <tr style=\"text-align: right;\">\n",
       "      <th></th>\n",
       "      <th>CentroidID_O</th>\n",
       "      <th>CentroidID_D</th>\n",
       "      <th>dt_15</th>\n",
       "      <th>counts</th>\n",
       "    </tr>\n",
       "  </thead>\n",
       "  <tbody>\n",
       "    <tr>\n",
       "      <th>0</th>\n",
       "      <td>ext_1</td>\n",
       "      <td>int_0</td>\n",
       "      <td>14:00</td>\n",
       "      <td>2.904623</td>\n",
       "    </tr>\n",
       "    <tr>\n",
       "      <th>1</th>\n",
       "      <td>ext_10</td>\n",
       "      <td>int_0</td>\n",
       "      <td>14:00</td>\n",
       "      <td>9.075543</td>\n",
       "    </tr>\n",
       "    <tr>\n",
       "      <th>2</th>\n",
       "      <td>ext_4</td>\n",
       "      <td>int_0</td>\n",
       "      <td>14:00</td>\n",
       "      <td>2.926549</td>\n",
       "    </tr>\n",
       "    <tr>\n",
       "      <th>3</th>\n",
       "      <td>ext_6</td>\n",
       "      <td>int_0</td>\n",
       "      <td>14:00</td>\n",
       "      <td>5.742926</td>\n",
       "    </tr>\n",
       "    <tr>\n",
       "      <th>4</th>\n",
       "      <td>ext_7</td>\n",
       "      <td>int_0</td>\n",
       "      <td>14:00</td>\n",
       "      <td>1.539133</td>\n",
       "    </tr>\n",
       "    <tr>\n",
       "      <th>...</th>\n",
       "      <td>...</td>\n",
       "      <td>...</td>\n",
       "      <td>...</td>\n",
       "      <td>...</td>\n",
       "    </tr>\n",
       "    <tr>\n",
       "      <th>22015</th>\n",
       "      <td>ext_10</td>\n",
       "      <td>ext_6</td>\n",
       "      <td>19:45</td>\n",
       "      <td>0.000000</td>\n",
       "    </tr>\n",
       "    <tr>\n",
       "      <th>22016</th>\n",
       "      <td>ext_10</td>\n",
       "      <td>ext_7</td>\n",
       "      <td>19:45</td>\n",
       "      <td>0.000000</td>\n",
       "    </tr>\n",
       "    <tr>\n",
       "      <th>22017</th>\n",
       "      <td>ext_10</td>\n",
       "      <td>ext_8</td>\n",
       "      <td>19:45</td>\n",
       "      <td>0.000000</td>\n",
       "    </tr>\n",
       "    <tr>\n",
       "      <th>22018</th>\n",
       "      <td>ext_10</td>\n",
       "      <td>ext_9</td>\n",
       "      <td>19:45</td>\n",
       "      <td>0.000000</td>\n",
       "    </tr>\n",
       "    <tr>\n",
       "      <th>22019</th>\n",
       "      <td>ext_10</td>\n",
       "      <td>ext_10</td>\n",
       "      <td>19:45</td>\n",
       "      <td>0.000000</td>\n",
       "    </tr>\n",
       "  </tbody>\n",
       "</table>\n",
       "<p>22020 rows × 4 columns</p>\n",
       "</div>"
      ],
      "text/plain": [
       "      CentroidID_O CentroidID_D  dt_15    counts\n",
       "0            ext_1        int_0  14:00  2.904623\n",
       "1           ext_10        int_0  14:00  9.075543\n",
       "2            ext_4        int_0  14:00  2.926549\n",
       "3            ext_6        int_0  14:00  5.742926\n",
       "4            ext_7        int_0  14:00  1.539133\n",
       "...            ...          ...    ...       ...\n",
       "22015       ext_10        ext_6  19:45  0.000000\n",
       "22016       ext_10        ext_7  19:45  0.000000\n",
       "22017       ext_10        ext_8  19:45  0.000000\n",
       "22018       ext_10        ext_9  19:45  0.000000\n",
       "22019       ext_10       ext_10  19:45  0.000000\n",
       "\n",
       "[22020 rows x 4 columns]"
      ]
     },
     "execution_count": 140,
     "metadata": {},
     "output_type": "execute_result"
    }
   ],
   "source": [
    "d_flow_dataframe = pd.DataFrame(d_flow, columns=['CentroidID_O', 'CentroidID_D', 'dt_15', 'counts'])\n",
    "d_flow_dataframe"
   ]
  },
  {
   "cell_type": "code",
   "execution_count": 141,
   "id": "365d5ba0",
   "metadata": {},
   "outputs": [],
   "source": [
    "d_flow_ext = d_flow_dataframe[\n",
    "    d_flow_dataframe['CentroidID_O'].str.contains('ext') & d_flow_dataframe['CentroidID_D'].str.contains('ext')]\n",
    "d_flow_int = d_flow_dataframe[\n",
    "    d_flow_dataframe['CentroidID_O'].str.contains('int') | d_flow_dataframe['CentroidID_D'].str.contains('int')]"
   ]
  },
  {
   "cell_type": "code",
   "execution_count": 142,
   "id": "1b252897",
   "metadata": {},
   "outputs": [],
   "source": [
    "d_flow_internal_total = d_flow_int['counts'].sum()\n",
    "d_flow_external_total = d_flow_ext['counts'].sum()\n",
    "traveler_resident_ratio_d_flow = d_flow_external_total / (d_flow_external_total + d_flow_internal_total)"
   ]
  },
  {
   "cell_type": "markdown",
   "id": "685a9c71",
   "metadata": {},
   "source": [
    "<a id='export'></a>\n",
    "\n",
    "# 3. Export Calibrated OD Demand Matrix"
   ]
  },
  {
   "cell_type": "markdown",
   "id": "97318d53",
   "metadata": {},
   "source": [
    "<a id='output_format'></a>\n",
    "## Output Format\n",
    "\n",
    "One .pkl file containing the flow-calibrated OD matrix from all centroids to all another centroid.\n",
    "\n",
    "Note: The **centroid_name** should be unique & consistent with ids in `centroid_connections.pkl`\n",
    "\n",
    "| Data                      | Description                              | Note                    |\n",
    "|:--------------------------|:-----------------------------------------|:------------------------|\n",
    "| od_demand_{year}.pkl | One pickle file (.pkl) containing: <br> **OriginDestinationMatrices** Object for Calibrated OD Demand | See `Utils/aimsun_input_utils.py` [(link)](https://github.com/Fremont-project/whole-code-repo/blob/53e9a289199ca825b1761293ceeb3737d1f2e848/Utils/aimsun_input_utils.py#L298) for class documentation |"
   ]
  },
  {
   "cell_type": "markdown",
   "id": "58c2fff7",
   "metadata": {},
   "source": [
    "#### Set up dependencies for export"
   ]
  },
  {
   "cell_type": "code",
   "execution_count": 16,
   "id": "693ecd6e",
   "metadata": {},
   "outputs": [
    {
     "name": "stdout",
     "output_type": "stream",
     "text": [
      "Export path set to: ../fremont-public-data/aimsun/inputs/demand/od_demand_2019.pkl\n"
     ]
    }
   ],
   "source": [
    "# Import file under /Utils/\n",
    "module_path = os.path.abspath(os.path.join('..', '..', 'Utils'))\n",
    "if module_path not in sys.path:\n",
    "    sys.path.append(module_path)\n",
    "    \n",
    "from aimsun_input_utils import (\n",
    "    ExternalId,\n",
    "    OriginDestinationTripsCount,\n",
    "    OriginDestinationMatrix, \n",
    "    OriginDestinationMatrices,\n",
    "    VehicleTypeName\n",
    ")\n",
    "\n",
    "# Set Export Path\n",
    "export_path_calibrated = aimsun_folder_utils.od_demand_aimsun_input_file()\n",
    "print(f'Export path set to: {export_path_calibrated}')"
   ]
  },
  {
   "cell_type": "markdown",
   "id": "16b78b33",
   "metadata": {},
   "source": [
    "#### Convert d_flow data to OriginDestinationMatrices object"
   ]
  },
  {
   "cell_type": "code",
   "execution_count": 17,
   "id": "d2ed3a59",
   "metadata": {},
   "outputs": [],
   "source": [
    "# Helper function to create OriginDestinationMatrices out of the given Grouped OD Demand DataFrame.\n",
    "def create_OriginDestinationMatrices(od_dataframe: pd.DataFrame, vehicle_type_name: str):\n",
    "    # Create a list of OriginDestinationMatrix objects as od_matrices_list \n",
    "    od_matrices_list = []\n",
    "\n",
    "    # Group internal OD data by timestamp\n",
    "    od_data_list = create_timeframe_grouped_od_matrices(od_dataframe)\n",
    "\n",
    "    for od_data in od_data_list:\n",
    "        # Create OriginDestinationMatrix object\n",
    "        od_matrix = aimsun_input_utils.OriginDestinationMatrix()\n",
    "\n",
    "        # Assign start and end timestamps\n",
    "        start_time_dt = datetime.datetime.strptime(od_data['dt_15'][od_data.index[0]], '%H:%M')\n",
    "        end_time_dt = start_time_dt + datetime.timedelta(minutes=15)\n",
    "        od_matrix.begin_time_interval = start_time_dt.time()\n",
    "        od_matrix.end_time_interval = end_time_dt.time()\n",
    "\n",
    "        # Assign vehicle type\n",
    "        od_matrix.vehicle_type = aimsun_input_utils.VehicleTypeName(vehicle_type_name)\n",
    "\n",
    "        # Create and assign OD trip counts\n",
    "        od_trips_list = []\n",
    "        for i in od_data.index:\n",
    "            od_trip = aimsun_input_utils.OriginDestinationTripsCount()\n",
    "            od_trip.origin_centroid_external_id = aimsun_input_utils.ExternalId(od_data['CentroidID_O'][i])\n",
    "            od_trip.destination_centroid_external_id = aimsun_input_utils.ExternalId(od_data['CentroidID_D'][i])\n",
    "            od_trip.num_trips = float(od_data['counts'][i])\n",
    "            od_trips_list.append(od_trip)\n",
    "        od_matrix.od_trips_count = od_trips_list\n",
    "\n",
    "        # Add OriginDestinationMatrix to int_od_matrices\n",
    "        od_matrices_list.append(od_matrix)\n",
    "    \n",
    "    # Create Internal OriginDestinationMatrices object\n",
    "    od_matrices_object = aimsun_input_utils.OriginDestinationMatrices()\n",
    "    od_matrices_object.od_matrices = od_matrices_list\n",
    "    \n",
    "    return od_matrices_object\n",
    "\n",
    "\n",
    "# Helper function to group OD demand data by timestamp. Returns a list of DataFrames that has the number of\n",
    "# non-zero trips between each Origin -> Destination Centroid ID pairs for every timestamp (15 minutes).\n",
    "def create_timeframe_grouped_od_matrices(od_dataframe: pd.DataFrame):\n",
    "    grouped_od_data = od_dataframe.groupby(['dt_15'])\n",
    "    timeframe_grouped_od_data_list = []\n",
    "    for key, _ in grouped_od_data:\n",
    "        timeframe_grouped_od_data_list.append(grouped_od_data.get_group(key))\n",
    "    return timeframe_grouped_od_data_list"
   ]
  },
  {
   "cell_type": "code",
   "execution_count": 18,
   "id": "b18d907f",
   "metadata": {},
   "outputs": [],
   "source": [
    "# Quick test for column names\n",
    "assert list(d_flow_ext.columns) == ['CentroidID_O', 'CentroidID_D', 'dt_15', 'counts']\n",
    "assert list(d_flow_int.columns) == ['CentroidID_O', 'CentroidID_D', 'dt_15', 'counts']\n",
    "\n",
    "calibrated_int_od_matrices = create_OriginDestinationMatrices(d_flow_int, 'Resident')\n",
    "calibrated_ext_od_matrices = create_OriginDestinationMatrices(d_flow_ext, 'Traveler')"
   ]
  },
  {
   "cell_type": "code",
   "execution_count": 19,
   "id": "2b0a6143",
   "metadata": {},
   "outputs": [],
   "source": [
    "# Test correctness of Internal OriginDestinationMatrices object.\n",
    "int_to_int_exists = False\n",
    "\n",
    "for od_matrix in calibrated_int_od_matrices.od_matrices:\n",
    "    for od_trip in od_matrix.od_trips_count:\n",
    "        if ('int' in od_trip.origin_centroid_external_id[0:3]\n",
    "                and 'int' in od_trip.destination_centroid_external_id[0:3]):\n",
    "            int_to_int_exists = True\n",
    "        if ('ext' in od_trip.origin_centroid_external_id[0:3]\n",
    "                and 'ext' in od_trip.destination_centroid_external_id[0:3]):\n",
    "            raise TypeError(f\"Error: Ext -> Ext OD Demand is inside OD Demand as internal demand.\")\n",
    "\n",
    "assert int_to_int_exists == True\n",
    "\n",
    "# Test correctness of External OriginDestinationMatrices object.\n",
    "for od_matrix in calibrated_ext_od_matrices.od_matrices:\n",
    "    for od_trip in od_matrix.od_trips_count:\n",
    "        if (not 'ext' in od_trip.origin_centroid_external_id\n",
    "                or not 'ext' in od_trip.destination_centroid_external_id):\n",
    "            raise TypeError(f\"Error: NOT Ext -> Ext OD Demand is inside OD Demand as external demand.\")"
   ]
  },
  {
   "cell_type": "code",
   "execution_count": 20,
   "id": "0bdffa25",
   "metadata": {},
   "outputs": [],
   "source": [
    "calibrated_od_demand = aimsun_input_utils.OriginDestinationMatrices()\n",
    "\n",
    "# Join Internal and External Demand into one object\n",
    "joined_od_matrices = []\n",
    "for _, int_od_matrix in enumerate(calibrated_int_od_matrices.od_matrices):\n",
    "    joined_od_matrices.append(int_od_matrix)\n",
    "for _, ext_od_matrix in enumerate(calibrated_ext_od_matrices.od_matrices):\n",
    "    joined_od_matrices.append(ext_od_matrix)\n",
    "calibrated_od_demand.od_matrices = joined_od_matrices"
   ]
  },
  {
   "cell_type": "code",
   "execution_count": 21,
   "id": "99449c5a",
   "metadata": {},
   "outputs": [],
   "source": [
    "# Test that int-int demand are not all the same.\n",
    "int_to_int_demand_list = []\n",
    "for od_matrix in calibrated_od_demand.od_matrices:\n",
    "    for od_trip in od_matrix.od_trips_count:\n",
    "        int_to_int_demand_list.append(od_trip.num_trips)\n",
    "\n",
    "assert len(int_to_int_demand_list) > 0 and not all(d == int_to_int_demand_list[0] for d in int_to_int_demand_list)"
   ]
  },
  {
   "cell_type": "markdown",
   "id": "0948e87b",
   "metadata": {},
   "source": [
    "#### Export object"
   ]
  },
  {
   "cell_type": "code",
   "execution_count": 22,
   "id": "e40e6796",
   "metadata": {},
   "outputs": [
    {
     "data": {
      "text/plain": [
       "'File saved to ../fremont-public-data/aimsun/inputs/demand/od_demand_2019.pkl'"
      ]
     },
     "execution_count": 22,
     "metadata": {},
     "output_type": "execute_result"
    }
   ],
   "source": [
    "# Export calibrated OD Demand object\n",
    "calibrated_od_demand.export_to_file(export_path_calibrated)\n",
    "f\"File saved to {export_path_calibrated}\""
   ]
  }
 ],
 "metadata": {
  "kernelspec": {
   "display_name": "Python 3",
   "language": "python",
   "name": "python3"
  },
  "language_info": {
   "codemirror_mode": {
    "name": "ipython",
    "version": 3
   },
   "file_extension": ".py",
   "mimetype": "text/x-python",
   "name": "python",
   "nbconvert_exporter": "python",
   "pygments_lexer": "ipython3",
   "version": "3.7.2"
  }
 },
 "nbformat": 4,
 "nbformat_minor": 5
}
